{
 "cells": [
  {
   "cell_type": "code",
   "execution_count": 1,
   "metadata": {},
   "outputs": [],
   "source": [
    "import numpy as np\n",
    "from qiskit import QuantumCircuit, Aer, assemble"
   ]
  },
  {
   "cell_type": "code",
   "execution_count": 1,
   "metadata": {},
   "outputs": [
    {
     "ename": "NameError",
     "evalue": "name 'np' is not defined",
     "output_type": "error",
     "traceback": [
      "\u001b[1;31m---------------------------------------------------------------------------\u001b[0m",
      "\u001b[1;31mNameError\u001b[0m                                 Traceback (most recent call last)",
      "\u001b[1;32m<ipython-input-1-9eebf6ad8431>\u001b[0m in \u001b[0;36m<module>\u001b[1;34m\u001b[0m\n\u001b[1;32m----> 1\u001b[1;33m \u001b[1;32mclass\u001b[0m \u001b[0mcircuit\u001b[0m\u001b[1;33m:\u001b[0m\u001b[1;33m\u001b[0m\u001b[1;33m\u001b[0m\u001b[0m\n\u001b[0m\u001b[0;32m      2\u001b[0m \u001b[1;33m\u001b[0m\u001b[0m\n\u001b[0;32m      3\u001b[0m     \u001b[0mH\u001b[0m \u001b[1;33m=\u001b[0m \u001b[0mnp\u001b[0m\u001b[1;33m.\u001b[0m\u001b[0marray\u001b[0m\u001b[1;33m(\u001b[0m\u001b[1;33m[\u001b[0m\u001b[1;33m[\u001b[0m\u001b[1;36m1\u001b[0m\u001b[1;33m,\u001b[0m\u001b[1;36m1\u001b[0m\u001b[1;33m]\u001b[0m\u001b[1;33m,\u001b[0m\u001b[1;33m[\u001b[0m\u001b[1;36m1\u001b[0m\u001b[1;33m,\u001b[0m\u001b[1;33m-\u001b[0m\u001b[1;36m1\u001b[0m\u001b[1;33m]\u001b[0m\u001b[1;33m]\u001b[0m\u001b[1;33m)\u001b[0m \u001b[1;33m/\u001b[0m \u001b[0mnp\u001b[0m\u001b[1;33m.\u001b[0m\u001b[0msqrt\u001b[0m\u001b[1;33m(\u001b[0m\u001b[1;36m2\u001b[0m\u001b[1;33m)\u001b[0m\u001b[1;33m\u001b[0m\u001b[1;33m\u001b[0m\u001b[0m\n\u001b[0;32m      4\u001b[0m     \u001b[0mS\u001b[0m \u001b[1;33m=\u001b[0m \u001b[0mnp\u001b[0m\u001b[1;33m.\u001b[0m\u001b[0marray\u001b[0m\u001b[1;33m(\u001b[0m\u001b[1;33m[\u001b[0m\u001b[1;33m[\u001b[0m\u001b[1;36m1\u001b[0m\u001b[1;33m,\u001b[0m\u001b[1;36m0\u001b[0m\u001b[1;33m]\u001b[0m\u001b[1;33m,\u001b[0m\u001b[1;33m[\u001b[0m\u001b[1;36m0\u001b[0m\u001b[1;33m,\u001b[0m\u001b[1;36m0\u001b[0m\u001b[1;33m+\u001b[0m\u001b[1;36m1j\u001b[0m\u001b[1;33m]\u001b[0m\u001b[1;33m]\u001b[0m\u001b[1;33m)\u001b[0m\u001b[1;33m\u001b[0m\u001b[1;33m\u001b[0m\u001b[0m\n\u001b[0;32m      5\u001b[0m \u001b[1;33m\u001b[0m\u001b[0m\n",
      "\u001b[1;32m<ipython-input-1-9eebf6ad8431>\u001b[0m in \u001b[0;36mcircuit\u001b[1;34m()\u001b[0m\n\u001b[0;32m      1\u001b[0m \u001b[1;32mclass\u001b[0m \u001b[0mcircuit\u001b[0m\u001b[1;33m:\u001b[0m\u001b[1;33m\u001b[0m\u001b[1;33m\u001b[0m\u001b[0m\n\u001b[0;32m      2\u001b[0m \u001b[1;33m\u001b[0m\u001b[0m\n\u001b[1;32m----> 3\u001b[1;33m     \u001b[0mH\u001b[0m \u001b[1;33m=\u001b[0m \u001b[0mnp\u001b[0m\u001b[1;33m.\u001b[0m\u001b[0marray\u001b[0m\u001b[1;33m(\u001b[0m\u001b[1;33m[\u001b[0m\u001b[1;33m[\u001b[0m\u001b[1;36m1\u001b[0m\u001b[1;33m,\u001b[0m\u001b[1;36m1\u001b[0m\u001b[1;33m]\u001b[0m\u001b[1;33m,\u001b[0m\u001b[1;33m[\u001b[0m\u001b[1;36m1\u001b[0m\u001b[1;33m,\u001b[0m\u001b[1;33m-\u001b[0m\u001b[1;36m1\u001b[0m\u001b[1;33m]\u001b[0m\u001b[1;33m]\u001b[0m\u001b[1;33m)\u001b[0m \u001b[1;33m/\u001b[0m \u001b[0mnp\u001b[0m\u001b[1;33m.\u001b[0m\u001b[0msqrt\u001b[0m\u001b[1;33m(\u001b[0m\u001b[1;36m2\u001b[0m\u001b[1;33m)\u001b[0m\u001b[1;33m\u001b[0m\u001b[1;33m\u001b[0m\u001b[0m\n\u001b[0m\u001b[0;32m      4\u001b[0m     \u001b[0mS\u001b[0m \u001b[1;33m=\u001b[0m \u001b[0mnp\u001b[0m\u001b[1;33m.\u001b[0m\u001b[0marray\u001b[0m\u001b[1;33m(\u001b[0m\u001b[1;33m[\u001b[0m\u001b[1;33m[\u001b[0m\u001b[1;36m1\u001b[0m\u001b[1;33m,\u001b[0m\u001b[1;36m0\u001b[0m\u001b[1;33m]\u001b[0m\u001b[1;33m,\u001b[0m\u001b[1;33m[\u001b[0m\u001b[1;36m0\u001b[0m\u001b[1;33m,\u001b[0m\u001b[1;36m0\u001b[0m\u001b[1;33m+\u001b[0m\u001b[1;36m1j\u001b[0m\u001b[1;33m]\u001b[0m\u001b[1;33m]\u001b[0m\u001b[1;33m)\u001b[0m\u001b[1;33m\u001b[0m\u001b[1;33m\u001b[0m\u001b[0m\n\u001b[0;32m      5\u001b[0m \u001b[1;33m\u001b[0m\u001b[0m\n",
      "\u001b[1;31mNameError\u001b[0m: name 'np' is not defined"
     ]
    }
   ],
   "source": [
    "class circuit:\n",
    "    \n",
    "    H = np.array([[1,1],[1,-1]]) / np.sqrt(2)\n",
    "    S = np.array([[1,0],[0,0+1j]])\n",
    "    \n",
    "    def __init__(self, filename):\n",
    "        self.Nqubits = 0\n",
    "        self.Gates = []\n",
    "        \n",
    "        \n",
    "        with open(filename, 'r') as reader:\n",
    "            self.Nqubits = int(reader.readline().split()[0])\n",
    "            \n",
    "            for line in reader:\n",
    "                if line  != '\\n':\n",
    "                    self.Gates.append([line.split()[0]] + [int(q) for q in line.split()[1:]])\n",
    "        \n",
    "        self.State = np.eye(2**self.Nqubits)\n",
    "        self.SingleBitOps = [np.eye(2) for i in range(self.Nqubits)]\n",
    "    \n",
    "    def simulate(self):\n",
    "        for gate in self.Gates:\n",
    "            if gate[0] == 'H':\n",
    "                self.SingleBitOps[gate[1]] = self.H @ self.SingleBitOps[gate[1]]\n",
    "            elif gate[0] == 'S':\n",
    "                self.SingleBitOps[gate[1]] = self.S @ self.SingleBitOps[gate[1]]\n",
    "            elif gate[0] == 'CX':\n",
    "                TempOp1 = self.SingleBitOps[-1]\n",
    "                for i in range(len(self.SingleBitOps)-2, -1, -1):\n",
    "                    TempOp1 = np.kron(TempOp1, self.SingleBitOps[i])\n",
    "\n",
    "                self.SingleBitOps = [np.eye(2) for i in range(self.Nqubits)]\n",
    "                self.SingleBitOps[gate[1]] = np.array([[1,0],[0,0]])\n",
    "                \n",
    "                TempOp2 = self.SingleBitOps[-1]\n",
    "                for i in range(len(self.SingleBitOps)-2, -1, -1):\n",
    "                    TempOp2 = np.kron(TempOp2, self.SingleBitOps[i])\n",
    "                \n",
    "                self.SingleBitOps[gate[1]] = np.array([[0,0],[0,1]])\n",
    "                self.SingleBitOps[gate[2]] = np.array([[0,1],[1,0]])\n",
    "                \n",
    "                TempOp3 = self.SingleBitOps[-1]\n",
    "                for i in range(len(self.SingleBitOps)-2, -1, -1):\n",
    "                    TempOp3 = np.kron(TempOp3, self.SingleBitOps[i])\n",
    "                \n",
    "                \n",
    "                self.State =(TempOp2 + TempOp3) @ TempOp1 @ self.State \n",
    "                \n",
    "                self.SingleBitOps = [np.eye(2) for i in range(self.Nqubits)]\n",
    "        \n",
    "        TempOp = self.SingleBitOps[-1]\n",
    "        for i in range(len(self.SingleBitOps)-2, -1, -1):\n",
    "            TempOp = np.kron(TempOp, self.SingleBitOps[i])\n",
    "        self.SingleBitOps = [np.eye(2) for i in range(self.Nqubits)]\n",
    "        self.State = TempOp @ self.State\n",
    "        \n",
    "    \n",
    "    def measure(self):\n",
    "        InitState = np.zeros(2**self.Nqubits)\n",
    "        InitState[0] = 1\n",
    "        \n",
    "        return self.State @ InitState\n"
   ]
  },
  {
   "cell_type": "code",
   "execution_count": 3,
   "metadata": {},
   "outputs": [
    {
     "name": "stdout",
     "output_type": "stream",
     "text": [
      "[0.5 0.  0.  0.5 0.5 0.  0.  0.5]\n"
     ]
    }
   ],
   "source": [
    "#C1 = circuit('Circuit1.txt')\n",
    "C1 = circuit('Circuit1.txt')\n",
    "C1.simulate()\n",
    "print(C1.measure())"
   ]
  },
  {
   "cell_type": "code",
   "execution_count": 4,
   "metadata": {},
   "outputs": [],
   "source": [
    "def test_result(circuit, res):\n",
    "    qc = QuantumCircuit(circuit.Nqubits)\n",
    "    for gate in circuit.Gates:\n",
    "        if gate[0] == 'H':\n",
    "            qc.h(gate[1])\n",
    "        elif gate[0] == 'S':\n",
    "            qc.s(gate[1])\n",
    "        elif gate[0] == 'CX':\n",
    "            qc.cx(gate[1], gate[2])\n",
    "    \n",
    "    # Let's get the result:\n",
    "    svsim = Aer.get_backend('statevector_simulator')\n",
    "    qobj = assemble(qc)\n",
    "    result = svsim.run(qobj).result()\n",
    "\n",
    "    final_state = result.get_statevector()\n",
    "    \n",
    "    if np.allclose(abs(final_state), abs(res)):\n",
    "        return True\n",
    "    else:\n",
    "        return False\n",
    "        "
   ]
  },
  {
   "cell_type": "code",
   "execution_count": 5,
   "metadata": {},
   "outputs": [],
   "source": [
    "ntests = 20\n",
    "gatetypes = ['H', 'S', 'CX']\n",
    "\n",
    "for i in range(ntests):\n",
    "    fname = 'TestCircuit' + str(i) + '.txt'\n",
    "    with open(fname, 'w') as writer:\n",
    "        qbits = np.random.randint(2,10)\n",
    "        writer.write(str(qbits) + ' Qubits \\n\\n')\n",
    "        ngates = np.random.randint(2,50)\n",
    "        for j in range(ngates):\n",
    "            g = np.random.randint(0,3)\n",
    "            if gatetypes[g] == 'CX':\n",
    "                c = np.random.randint(0, qbits)\n",
    "                t = c\n",
    "                while t == c:\n",
    "                    t = np.random.randint(0, qbits)\n",
    "                ss = str(gatetypes[g]) + ' ' + str(c) + ' ' + str(t) + '\\n'\n",
    "                writer.write(ss)\n",
    "            else:\n",
    "                t = np.random.randint(0, qbits)\n",
    "                ss = str(gatetypes[g]) + ' ' + str(t) + '\\n'\n",
    "                writer.write(ss)\n",
    " \n"
   ]
  },
  {
   "cell_type": "code",
   "execution_count": 64,
   "metadata": {},
   "outputs": [
    {
     "name": "stdout",
     "output_type": "stream",
     "text": [
      "Passed\n",
      "Passed\n",
      "Passed\n",
      "Passed\n",
      "Passed\n",
      "Passed\n",
      "Passed\n",
      "Passed\n",
      "Passed\n",
      "Passed\n",
      "Passed\n",
      "Passed\n",
      "Passed\n",
      "Passed\n",
      "Passed\n",
      "Passed\n",
      "Passed\n",
      "Passed\n",
      "Passed\n",
      "Passed\n"
     ]
    }
   ],
   "source": [
    "for i in range(ntests):\n",
    "    fname = 'TestCircuit' + str(i) + '.txt'\n",
    "    circ = circuit(fname)\n",
    "    circ.simulate()\n",
    "    res = circ.measure()\n",
    "    if test_result(circ, res):\n",
    "        print('Passed')\n",
    "    else:\n",
    "        print('Failed')"
   ]
  },
  {
   "cell_type": "code",
   "execution_count": null,
   "metadata": {},
   "outputs": [],
   "source": []
  }
 ],
 "metadata": {
  "kernelspec": {
   "display_name": "Python 3",
   "language": "python",
   "name": "python3"
  },
  "language_info": {
   "codemirror_mode": {
    "name": "ipython",
    "version": 3
   },
   "file_extension": ".py",
   "mimetype": "text/x-python",
   "name": "python",
   "nbconvert_exporter": "python",
   "pygments_lexer": "ipython3",
   "version": "3.8.3"
  }
 },
 "nbformat": 4,
 "nbformat_minor": 4
}
