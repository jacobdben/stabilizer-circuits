{
 "cells": [
  {
   "cell_type": "code",
   "execution_count": 9,
   "metadata": {},
   "outputs": [],
   "source": [
    "import numpy as np\n",
    "\n",
    "gatetypes = ['H', 'S']\n",
    "patterns = ['A','B','C','D','A','B','C','D','A','B','C','D','A','B','C','D','A','B','C','D','A','B','C','D','A','B','C','D']\n",
    "\n",
    "for N in range(2, 10):\n",
    "    fname = str(N**2) + '_bits.txt'\n",
    "    with open(fname, 'w') as writer:\n",
    "        qbits = N**2\n",
    "        writer.write(str(qbits) + ' Qubits \\n\\n')\n",
    "        \n",
    "        m = len(patterns)\n",
    "        # Number of gate 'patterns'\n",
    "        for i in range(m):\n",
    "            \n",
    "            # Single bit gates on every qubit\n",
    "            for j in range(N**2):\n",
    "                g = np.random.randint(0,2)\n",
    "                ss = str(gatetypes[g]) + ' ' + str(j) + '\\n'\n",
    "                writer.write(ss)\n",
    "            \n",
    "            \n",
    "            # Add two-bit gates according to the patterns\n",
    "            \n",
    "            if patterns[i] == 'A':\n",
    "                for j in range(0, N-1, 2):\n",
    "                    for k in range(1, N):\n",
    "                        a = k+j*N\n",
    "                        b = k+j*N+N-1\n",
    "                        assert(a < N**2)\n",
    "                        assert(b < N**2)\n",
    "                        ss = 'CX ' + str(a) + ' ' + str(b) + '\\n'\n",
    "                        writer.write(ss)\n",
    "            \n",
    "            elif patterns[i] == 'B':\n",
    "                for j in range(1, N-1, 2):\n",
    "                    for k in range(1, N):\n",
    "                        a = k+j*N\n",
    "                        b = k+j*N+N-1\n",
    "                        assert(a < N**2)\n",
    "                        assert(b < N**2)\n",
    "                        ss = 'CX ' + str(a) + ' ' + str(b) + '\\n'\n",
    "                        writer.write(ss)\n",
    "            \n",
    "            elif patterns[i] == 'C':\n",
    "                for j in range(0, N-1, 2):\n",
    "                    for k in range(0, N-1):\n",
    "                        a = k+j*N\n",
    "                        b = k+j*N+N+1\n",
    "                        assert(a < N**2)\n",
    "                        assert(b < N**2)\n",
    "                        ss = 'CX ' + str(a) + ' ' + str(b) + '\\n'\n",
    "                        writer.write(ss)\n",
    "            \n",
    "            elif patterns[i] == 'D':\n",
    "                for j in range(1, N-1, 2):\n",
    "                    for k in range(0, N-1):\n",
    "                        a = k+j*N\n",
    "                        b = k+j*N+N+1\n",
    "                        assert(a < N**2)\n",
    "                        assert(b < N**2)\n",
    "                        ss = 'CX ' + str(a) + ' ' + str(b) + '\\n'\n",
    "                        writer.write(ss)"
   ]
  },
  {
   "cell_type": "code",
   "execution_count": 4,
   "metadata": {},
   "outputs": [
    {
     "name": "stdout",
     "output_type": "stream",
     "text": [
      "Debug\n"
     ]
    }
   ],
   "source": [
    "for x in range(0,3-1,2):\n",
    "    print('Debug')"
   ]
  },
  {
   "cell_type": "code",
   "execution_count": null,
   "metadata": {},
   "outputs": [],
   "source": []
  }
 ],
 "metadata": {
  "kernelspec": {
   "display_name": "Python 3",
   "language": "python",
   "name": "python3"
  },
  "language_info": {
   "codemirror_mode": {
    "name": "ipython",
    "version": 3
   },
   "file_extension": ".py",
   "mimetype": "text/x-python",
   "name": "python",
   "nbconvert_exporter": "python",
   "pygments_lexer": "ipython3",
   "version": "3.8.3"
  }
 },
 "nbformat": 4,
 "nbformat_minor": 4
}
