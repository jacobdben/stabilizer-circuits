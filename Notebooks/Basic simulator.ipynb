{
 "cells": [
  {
   "cell_type": "markdown",
   "metadata": {},
   "source": [
    "# Matrix product simulator"
   ]
  },
  {
   "cell_type": "code",
   "execution_count": 1,
   "metadata": {},
   "outputs": [],
   "source": [
    "import numpy as np"
   ]
  },
  {
   "cell_type": "code",
   "execution_count": 2,
   "metadata": {},
   "outputs": [],
   "source": [
    "class circuit:\n",
    "    \n",
    "    H = np.array([[1,1],[1,-1]]) / np.sqrt(2)\n",
    "    S = np.array([[1,0],[0,0+1j]])\n",
    "    \n",
    "    def __init__(self, filename):\n",
    "        self.Nqubits = 0\n",
    "        self.Gates = []\n",
    "        \n",
    "        \n",
    "        with open(filename, 'r') as reader:\n",
    "            self.Nqubits = int(reader.readline().split()[0])\n",
    "            \n",
    "            for line in reader:\n",
    "                if line  != '\\n':\n",
    "                    self.Gates.append([line.split()[0]] + [int(q) for q in line.split()[1:]])\n",
    "        \n",
    "        self.State = np.eye(2**self.Nqubits)\n",
    "        self.SingleBitOps = [np.eye(2) for i in range(self.Nqubits)]\n",
    "    \n",
    "    def simulate(self):\n",
    "        for gate in self.Gates:\n",
    "            if gate[0] == 'H':\n",
    "                self.SingleBitOps[gate[1]] = self.H @ self.SingleBitOps[gate[1]]\n",
    "            elif gate[0] == 'S':\n",
    "                self.SingleBitOps[gate[1]] = self.S @ self.SingleBitOps[gate[1]]\n",
    "            elif gate[0] == 'CX':\n",
    "                TempOp1 = self.SingleBitOps[-1]\n",
    "                for i in range(len(self.SingleBitOps)-2, -1, -1):\n",
    "                    TempOp1 = np.kron(TempOp1, self.SingleBitOps[i])\n",
    "\n",
    "                self.SingleBitOps = [np.eye(2) for i in range(self.Nqubits)]\n",
    "                self.SingleBitOps[gate[1]] = np.array([[1,0],[0,0]])\n",
    "                \n",
    "                TempOp2 = self.SingleBitOps[-1]\n",
    "                for i in range(len(self.SingleBitOps)-2, -1, -1):\n",
    "                    TempOp2 = np.kron(TempOp2, self.SingleBitOps[i])\n",
    "                \n",
    "                self.SingleBitOps[gate[1]] = np.array([[0,0],[0,1]])\n",
    "                self.SingleBitOps[gate[2]] = np.array([[0,1],[1,0]])\n",
    "                \n",
    "                TempOp3 = self.SingleBitOps[-1]\n",
    "                for i in range(len(self.SingleBitOps)-2, -1, -1):\n",
    "                    TempOp3 = np.kron(TempOp3, self.SingleBitOps[i])\n",
    "                \n",
    "                \n",
    "                self.State =(TempOp2 + TempOp3) @ TempOp1 @ self.State \n",
    "                \n",
    "                self.SingleBitOps = [np.eye(2) for i in range(self.Nqubits)]\n",
    "        \n",
    "        TempOp = self.SingleBitOps[-1]\n",
    "        for i in range(len(self.SingleBitOps)-2, -1, -1):\n",
    "            TempOp = np.kron(TempOp, self.SingleBitOps[i])\n",
    "        self.SingleBitOps = [np.eye(2) for i in range(self.Nqubits)]\n",
    "        self.State = TempOp @ self.State\n",
    "        \n",
    "    \n",
    "    def measure(self):\n",
    "        InitState = np.zeros(2**self.Nqubits)\n",
    "        InitState[0] = 1\n",
    "        \n",
    "        return self.State @ InitState\n"
   ]
  },
  {
   "cell_type": "code",
   "execution_count": null,
   "metadata": {},
   "outputs": [],
   "source": []
  }
 ],
 "metadata": {
  "kernelspec": {
   "display_name": "Python 3",
   "language": "python",
   "name": "python3"
  },
  "language_info": {
   "codemirror_mode": {
    "name": "ipython",
    "version": 3
   },
   "file_extension": ".py",
   "mimetype": "text/x-python",
   "name": "python",
   "nbconvert_exporter": "python",
   "pygments_lexer": "ipython3",
   "version": "3.8.3"
  }
 },
 "nbformat": 4,
 "nbformat_minor": 4
}
