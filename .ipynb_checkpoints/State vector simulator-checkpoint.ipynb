{
 "cells": [
  {
   "cell_type": "code",
   "execution_count": 10,
   "metadata": {},
   "outputs": [],
   "source": [
    "import numpy as np\n",
    "from qiskit import QuantumCircuit, Aer, assemble"
   ]
  },
  {
   "cell_type": "markdown",
   "metadata": {},
   "source": [
    "Two qubit system:\n",
    "$$|\\psi \\rangle = \\begin{pmatrix}\\psi_{0,0}\\\\\\psi_{0,1}\\\\\\psi_{1,0}\\\\\\psi_{1,1}\\end{pmatrix}$$\n",
    "\n",
    "Three qubit system:\n",
    "$$|\\psi \\rangle = \\begin{pmatrix}\\psi_{0,0,0}\\\\\\psi_{0,0,1}\\\\\\psi_{0,1,0}\\\\\\psi_{0,1,1}\\\\\\psi_{1,0,0}\\\\\\psi_{1,0,1}\\\\\\psi_{1,1,0}\\\\\\psi_{1,1,1}\\end{pmatrix}$$\n",
    "\n",
    "Etc..."
   ]
  },
  {
   "cell_type": "markdown",
   "metadata": {},
   "source": [
    "### Single qubit gate\n",
    "Applying a gate to the i'th qubit:\n",
    "$$|\\psi'\\rangle = U^{(i)} |\\psi\\rangle$$\n",
    "So that\n",
    "$$\\psi'_{b_{n-1}, ..., b_i, ..., b_0} = \\sum_{x=0}^{1} U_{b_i x}^{(i)} \\cdot \\psi_{b_{n-1}, ..., b_{i+1}, x, b_{i-1}, ..., b_0}$$\n",
    "\n",
    "\n",
    "### Two qubit gate\n",
    "Applying a gate to the i'th qubit with j'th qubit as control:\n",
    "$$|\\psi'\\rangle = U^{(i,j)} |\\psi\\rangle$$\n",
    "So that\n",
    "$$\\psi'_{b_{n-1}, ..., b_i, ..., b_j, ..., b_0} = \\sum_{x,y=0}^{1} U_{(b_i+2b_j)\\, (x+2y)}^{(i,j)} \\cdot \\psi_{b_{n-1}, ..., b_{i+1}, x, b_{i-1}, ..., b_{j+1}, y, b_{j-1}, ..., b_0}$$"
   ]
  },
  {
   "cell_type": "code",
   "execution_count": 11,
   "metadata": {},
   "outputs": [],
   "source": [
    "def b_i(qubit, index):\n",
    "    return (index//2**qubit)%2\n",
    "\n",
    "def index(qubit, old_index, x):\n",
    "    if b_i(qubit, old_index) == x:\n",
    "        return old_index\n",
    "    elif b_i(qubit, old_index) == 0 and x == 1:\n",
    "        return old_index + 2**qubit\n",
    "    elif b_i(qubit, old_index) == 1 and x == 0:\n",
    "        return old_index - 2**qubit\n",
    "\n",
    "def index2(target, control, old_index, x, y):\n",
    "    if b_i(target, old_index) == x and b_i(control, old_index) == y:\n",
    "        return old_index\n",
    "    \n",
    "    if b_i(target, old_index) == 0 and x == 1:\n",
    "        old_index += 2**target\n",
    "    elif b_i(target, old_index) == 1 and x == 0:\n",
    "        old_index -= 2**target\n",
    "    \n",
    "    if b_i(control, old_index) == 0 and y == 1:\n",
    "        old_index += 2**control\n",
    "    elif b_i(control, old_index) == 1 and y == 0:\n",
    "        old_index -= 2**control\n",
    "    \n",
    "    return old_index"
   ]
  },
  {
   "cell_type": "code",
   "execution_count": 12,
   "metadata": {},
   "outputs": [],
   "source": [
    "class circuit:\n",
    "    \n",
    "    GATE_TYPES = {\n",
    "        'H': np.array([[1,1],[1,-1]], dtype=complex) / np.sqrt(2),\n",
    "        'S': np.array([[1,0],[0,0+1j]], dtype=complex),\n",
    "        'CX': np.array([[1,0,0,0],[0,1,0,0],[0,0,0,1],[0,0,1,0]], dtype=complex)\n",
    "        }\n",
    "    \n",
    "    def __init__(self, filename):\n",
    "        self.Nqubits = 0\n",
    "        self.Gates = []\n",
    "        self.CurrPos = 0\n",
    "        \n",
    "        \n",
    "        with open(filename, 'r') as reader:\n",
    "            line = reader.readline()\n",
    "            self.Nqubits = int(line.split()[0])\n",
    "            \n",
    "            for line in reader:\n",
    "                if line  != '\\n':\n",
    "                    self.Gates.append([line.split()[0]] + [int(q) for q in line.split()[1:]])\n",
    "        \n",
    "        self.State = np.zeros(2**self.Nqubits, dtype=complex)\n",
    "        self.State[0] = 1+0j\n",
    "    \n",
    "    def apply_single_qubit_gate(self, gate, target):\n",
    "        U = self.GATE_TYPES[gate]\n",
    "        t = target\n",
    "        OldState = np.copy(self.State)\n",
    "        for i in range(2**self.Nqubits):\n",
    "            self.State[i] = U[b_i(t, i),0]*OldState[index(t, i, 0)] + U[b_i(t, i),1]*OldState[index(t, i, 1)]\n",
    "    \n",
    "    def apply_two_qubit_gate(self, gate, control, target):\n",
    "        U = self.GATE_TYPES[gate]\n",
    "        t = target\n",
    "        c = control\n",
    "        OldState = np.copy(self.State)\n",
    "        \n",
    "        for i in range(2**self.Nqubits):\n",
    "            b_t = b_i(t, i)\n",
    "            b_c = b_i(c, i)\n",
    "            self.State[i] = U[b_t+2*b_c,0] * OldState[index2(t, c, i, 0, 0)] \\\n",
    "            + U[b_t+2*b_c,1] * OldState[index2(t, c, i, 1, 0)] \\\n",
    "            + U[b_t+2*b_c,2] * OldState[index2(t, c, i, 0, 1)] \\\n",
    "            + U[b_t+2*b_c,3] * OldState[index2(t, c, i, 1, 1)]\n",
    "    \n",
    "    def propagate(self):\n",
    "        if self.CurrPos < len(self.Gates):\n",
    "            gate = self.Gates[self.CurrPos]\n",
    "            if len(gate) == 2:\n",
    "                self.apply_single_qubit_gate(gate[0], gate[1])\n",
    "            elif len(gate) == 3:\n",
    "                self.apply_two_qubit_gate(gate[0], gate[1], gate[2])\n",
    "            self.CurrPos += 1\n",
    "    \n",
    "    def simulate(self):\n",
    "        for g in self.Gates:\n",
    "            self.propagate()\n",
    "    \n",
    "    def measure(self):\n",
    "        return self.State\n"
   ]
  },
  {
   "cell_type": "markdown",
   "metadata": {},
   "source": [
    "## Tests"
   ]
  },
  {
   "cell_type": "code",
   "execution_count": 4,
   "metadata": {},
   "outputs": [],
   "source": [
    "def test_result(circuit, res):\n",
    "    qc = QuantumCircuit(circuit.Nqubits)\n",
    "    for gate in circuit.Gates:\n",
    "        if gate[0] == 'H':\n",
    "            qc.h(gate[1])\n",
    "        elif gate[0] == 'S':\n",
    "            qc.s(gate[1])\n",
    "        elif gate[0] == 'CX':\n",
    "            qc.cx(gate[1], gate[2])\n",
    "    \n",
    "    # Let's get the result:\n",
    "    svsim = Aer.get_backend('statevector_simulator')\n",
    "    qobj = assemble(qc)\n",
    "    result = svsim.run(qobj).result()\n",
    "\n",
    "    final_state = result.get_statevector()\n",
    "    \n",
    "    if np.allclose(abs(final_state), abs(res)):\n",
    "        return True\n",
    "    else:\n",
    "        return False"
   ]
  },
  {
   "cell_type": "code",
   "execution_count": 5,
   "metadata": {},
   "outputs": [],
   "source": [
    "ntests = 20\n",
    "gatetypes = ['H', 'S', 'CX']\n",
    "\n",
    "for i in range(ntests):\n",
    "    fname = 'TestCircuit' + str(i) + '.txt'\n",
    "    with open(fname, 'w') as writer:\n",
    "        qbits = np.random.randint(2,15)\n",
    "        writer.write(str(qbits) + ' Qubits \\n\\n')\n",
    "        ngates = np.random.randint(2,50)\n",
    "        for j in range(ngates):\n",
    "            g = np.random.randint(0,3)\n",
    "            if gatetypes[g] == 'CX':\n",
    "                c = np.random.randint(0, qbits)\n",
    "                t = c\n",
    "                while t == c:\n",
    "                    t = np.random.randint(0, qbits)\n",
    "                ss = str(gatetypes[g]) + ' ' + str(c) + ' ' + str(t) + '\\n'\n",
    "                writer.write(ss)\n",
    "            else:\n",
    "                t = np.random.randint(0, qbits)\n",
    "                ss = str(gatetypes[g]) + ' ' + str(t) + '\\n'\n",
    "                writer.write(ss)"
   ]
  },
  {
   "cell_type": "code",
   "execution_count": 6,
   "metadata": {},
   "outputs": [
    {
     "name": "stdout",
     "output_type": "stream",
     "text": [
      "Passed\n",
      "Passed\n",
      "Passed\n",
      "Passed\n",
      "Passed\n",
      "Passed\n",
      "Passed\n",
      "Passed\n",
      "Passed\n",
      "Passed\n",
      "Passed\n",
      "Passed\n",
      "Passed\n",
      "Passed\n",
      "Passed\n",
      "Passed\n",
      "Passed\n",
      "Passed\n",
      "Passed\n",
      "Passed\n"
     ]
    }
   ],
   "source": [
    "for i in range(ntests):\n",
    "    fname = 'TestCircuit' + str(i) + '.txt'\n",
    "    circ = circuit(fname)\n",
    "    circ.simulate()\n",
    "    res = circ.measure()\n",
    "    if test_result(circ, res):\n",
    "        print('Passed')\n",
    "    else:\n",
    "        print('Failed')"
   ]
  },
  {
   "cell_type": "code",
   "execution_count": 9,
   "metadata": {},
   "outputs": [
    {
     "name": "stdout",
     "output_type": "stream",
     "text": [
      "[0.70710678+0.j 0.        +0.j 0.        +0.j 0.70710678+0.j]\n"
     ]
    }
   ],
   "source": [
    "C1 = circuit('Circuit1.txt')\n",
    "C1.simulate()\n",
    "print(C1.measure())"
   ]
  },
  {
   "cell_type": "code",
   "execution_count": null,
   "metadata": {},
   "outputs": [],
   "source": []
  }
 ],
 "metadata": {
  "kernelspec": {
   "display_name": "Python 3",
   "language": "python",
   "name": "python3"
  },
  "language_info": {
   "codemirror_mode": {
    "name": "ipython",
    "version": 3
   },
   "file_extension": ".py",
   "mimetype": "text/x-python",
   "name": "python",
   "nbconvert_exporter": "python",
   "pygments_lexer": "ipython3",
   "version": "3.8.3"
  }
 },
 "nbformat": 4,
 "nbformat_minor": 4
}
